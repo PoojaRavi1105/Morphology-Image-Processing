{
 "cells": [
  {
   "cell_type": "markdown",
   "metadata": {},
   "source": [
    "# task 1"
   ]
  },
  {
   "cell_type": "code",
   "execution_count": 10,
   "metadata": {},
   "outputs": [],
   "source": [
    "import cv2 as cv\n",
    "import numpy as np"
   ]
  },
  {
   "cell_type": "code",
   "execution_count": 11,
   "metadata": {},
   "outputs": [],
   "source": [
    "img = cv.imread('noise.jpg',0)"
   ]
  },
  {
   "cell_type": "code",
   "execution_count": 12,
   "metadata": {},
   "outputs": [
    {
     "data": {
      "text/plain": [
       "(310, 351)"
      ]
     },
     "execution_count": 12,
     "metadata": {},
     "output_type": "execute_result"
    }
   ],
   "source": [
    "img.shape"
   ]
  },
  {
   "cell_type": "code",
   "execution_count": 13,
   "metadata": {},
   "outputs": [],
   "source": [
    "def padding(img):\n",
    "    [rows,cols] = img.shape\n",
    "    listofzeros = [0] * (cols+2)\n",
    "    image_pad = list()\n",
    "    image_pad.append(listofzeros)\n",
    "    for i in img:\n",
    "        i = list(i)\n",
    "        i.insert(0,0)\n",
    "        i.insert(len(i)+1,0)\n",
    "        image_pad.append(i)\n",
    "    image_pad.append(listofzeros)\n",
    "    image_pad = np.asarray(image_pad)\n",
    "    return image_pad"
   ]
  },
  {
   "cell_type": "code",
   "execution_count": 18,
   "metadata": {},
   "outputs": [],
   "source": [
    "def remove_padding(image_pad):  \n",
    "    [rows_pad,cols_pad] = image_pad.shape\n",
    "    return image_pad[1:rows_pad-1,1:cols_pad-1]"
   ]
  },
  {
   "cell_type": "code",
   "execution_count": 19,
   "metadata": {},
   "outputs": [],
   "source": [
    "def dilation(img,struc_ele):\n",
    "    [rows_str,cols_str] = struc_ele.shape\n",
    "    image_pad = padding(img)\n",
    "    [rows_pad,cols_pad] = image_pad.shape\n",
    "    temp = [[0]*cols_pad for _ in range(rows_pad)] \n",
    "    temp = np.asarray(temp)\n",
    "    for i in range(1,rows_pad-1):\n",
    "        for j in range(1,cols_pad-1):\n",
    "            for k in range(rows_str):\n",
    "                for l in range(cols_str):\n",
    "                    if image_pad[i-1+k,j-1+l] == struc_ele[k,l]:\n",
    "                        temp[i,j] = 255\n",
    "    temp = remove_padding(temp)\n",
    "    return temp"
   ]
  },
  {
   "cell_type": "code",
   "execution_count": 20,
   "metadata": {},
   "outputs": [],
   "source": [
    "struc_ele = [[255, 255, 255],\n",
    "          [255, 255, 255],\n",
    "          [255, 255, 255]]\n",
    "struc_ele = np.asarray(struc_ele)"
   ]
  },
  {
   "cell_type": "code",
   "execution_count": 21,
   "metadata": {},
   "outputs": [],
   "source": [
    "temp = dilation(img,struc_ele)"
   ]
  },
  {
   "cell_type": "code",
   "execution_count": 22,
   "metadata": {},
   "outputs": [
    {
     "data": {
      "text/plain": [
       "True"
      ]
     },
     "execution_count": 22,
     "metadata": {},
     "output_type": "execute_result"
    }
   ],
   "source": [
    "cv.imwrite('dilation.png',temp)"
   ]
  },
  {
   "cell_type": "code",
   "execution_count": 23,
   "metadata": {},
   "outputs": [
    {
     "data": {
      "text/plain": [
       "(310, 351)"
      ]
     },
     "execution_count": 23,
     "metadata": {},
     "output_type": "execute_result"
    }
   ],
   "source": [
    "temp.shape"
   ]
  },
  {
   "cell_type": "markdown",
   "metadata": {},
   "source": [
    "# Erosion"
   ]
  },
  {
   "cell_type": "code",
   "execution_count": 24,
   "metadata": {},
   "outputs": [],
   "source": [
    "def padding_erosion(img):\n",
    "    [rows,cols] = img.shape\n",
    "    listofzeros = [255] * (cols+2)\n",
    "    image_pad = list()\n",
    "    image_pad.append(listofzeros)\n",
    "    for i in img:\n",
    "        i = list(i)\n",
    "        i.insert(0,255)\n",
    "        i.insert(len(i)+1,255)\n",
    "        image_pad.append(i)\n",
    "    image_pad.append(listofzeros)\n",
    "    image_pad = np.asarray(image_pad)\n",
    "    return image_pad"
   ]
  },
  {
   "cell_type": "code",
   "execution_count": 25,
   "metadata": {},
   "outputs": [],
   "source": [
    "def erosion(img,struc_ele):\n",
    "    [rows_str,cols_str] = struc_ele.shape\n",
    "    image_pad = padding_erosion(img)\n",
    "    [rows_pad,cols_pad] = image_pad.shape\n",
    "    temp = [[0]*cols_pad for _ in range(rows_pad)] \n",
    "    temp = np.asarray(temp)\n",
    "    flag = True\n",
    "    for i in range(1,rows_pad-1):\n",
    "        for j in range(1,cols_pad-1):\n",
    "            image_sl = image_pad[i-1:i+2,j-1:j+2]\n",
    "            if (np.array_equal(image_sl,struc_ele)):\n",
    "                temp[i,j] = 255\n",
    "    temp = remove_padding(temp)\n",
    "    return temp"
   ]
  },
  {
   "cell_type": "code",
   "execution_count": 26,
   "metadata": {},
   "outputs": [],
   "source": [
    "temp_erosion = erosion(img,struc_ele)"
   ]
  },
  {
   "cell_type": "code",
   "execution_count": 27,
   "metadata": {},
   "outputs": [
    {
     "data": {
      "text/plain": [
       "True"
      ]
     },
     "execution_count": 27,
     "metadata": {},
     "output_type": "execute_result"
    }
   ],
   "source": [
    "cv.imwrite('erosion.png',temp_erosion)"
   ]
  },
  {
   "cell_type": "markdown",
   "metadata": {},
   "source": [
    "# Opening"
   ]
  },
  {
   "cell_type": "code",
   "execution_count": 28,
   "metadata": {},
   "outputs": [],
   "source": [
    "def opening(img,struc_ele):\n",
    "    erode = erosion(img,struc_ele)\n",
    "    open_img = dilation(erode,struc_ele)\n",
    "    return open_img"
   ]
  },
  {
   "cell_type": "code",
   "execution_count": 29,
   "metadata": {},
   "outputs": [
    {
     "data": {
      "text/plain": [
       "True"
      ]
     },
     "execution_count": 29,
     "metadata": {},
     "output_type": "execute_result"
    }
   ],
   "source": [
    "open_img = opening(img,struc_ele)\n",
    "cv.imwrite('opening.png',open_img)"
   ]
  },
  {
   "cell_type": "markdown",
   "metadata": {},
   "source": [
    "# Closing"
   ]
  },
  {
   "cell_type": "code",
   "execution_count": 30,
   "metadata": {},
   "outputs": [],
   "source": [
    "def closing(img,struc_ele):\n",
    "    dilate = dilation(img,struc_ele)\n",
    "    close_img = erosion(dilate,struc_ele)\n",
    "    return close_img"
   ]
  },
  {
   "cell_type": "code",
   "execution_count": 31,
   "metadata": {},
   "outputs": [
    {
     "data": {
      "text/plain": [
       "True"
      ]
     },
     "execution_count": 31,
     "metadata": {},
     "output_type": "execute_result"
    }
   ],
   "source": [
    "close_img = closing(img,struc_ele)\n",
    "cv.imwrite('closing.png',close_img)"
   ]
  },
  {
   "cell_type": "markdown",
   "metadata": {},
   "source": [
    "# Removing noise"
   ]
  },
  {
   "cell_type": "code",
   "execution_count": 32,
   "metadata": {},
   "outputs": [],
   "source": [
    "open_img = opening(img,struc_ele)\n",
    "close_img = closing(open_img,struc_ele)"
   ]
  },
  {
   "cell_type": "code",
   "execution_count": 33,
   "metadata": {},
   "outputs": [
    {
     "data": {
      "text/plain": [
       "True"
      ]
     },
     "execution_count": 33,
     "metadata": {},
     "output_type": "execute_result"
    }
   ],
   "source": [
    "cv.imwrite('res_noise1.jpg',close_img)"
   ]
  },
  {
   "cell_type": "code",
   "execution_count": 34,
   "metadata": {},
   "outputs": [],
   "source": [
    "close_img = closing(img,struc_ele)\n",
    "open_img = opening(close_img,struc_ele)"
   ]
  },
  {
   "cell_type": "code",
   "execution_count": 35,
   "metadata": {},
   "outputs": [
    {
     "data": {
      "text/plain": [
       "True"
      ]
     },
     "execution_count": 35,
     "metadata": {},
     "output_type": "execute_result"
    }
   ],
   "source": [
    "cv.imwrite('res_noise2.jpg',open_img)"
   ]
  },
  {
   "cell_type": "markdown",
   "metadata": {},
   "source": [
    "# Boundary"
   ]
  },
  {
   "cell_type": "code",
   "execution_count": 36,
   "metadata": {},
   "outputs": [],
   "source": [
    "#opening\n",
    "erode = erosion(img,struc_ele)\n",
    "open_img = dilation(erode,struc_ele)\n",
    "#closing\n",
    "dilate = dilation(open_img,struc_ele)\n",
    "close_img = erosion(dilate,struc_ele)\n",
    "\n",
    "erode = erosion(close_img,struc_ele)\n",
    "boundary1 = close_img - erode"
   ]
  },
  {
   "cell_type": "code",
   "execution_count": 37,
   "metadata": {},
   "outputs": [
    {
     "data": {
      "text/plain": [
       "True"
      ]
     },
     "execution_count": 37,
     "metadata": {},
     "output_type": "execute_result"
    }
   ],
   "source": [
    "cv.imwrite('res_bound1.png',boundary1)"
   ]
  },
  {
   "cell_type": "code",
   "execution_count": 39,
   "metadata": {},
   "outputs": [],
   "source": [
    "#closing\n",
    "dilate = dilation(img,struc_ele)\n",
    "close_img = erosion(dilate,struc_ele)\n",
    "\n",
    "#opening\n",
    "erode = erosion(close_img,struc_ele)\n",
    "open_img = dilation(erode,struc_ele)\n",
    "\n",
    "\n",
    "erode = erosion(open_img,struc_ele)\n",
    "boundary2 = open_img - erode"
   ]
  },
  {
   "cell_type": "code",
   "execution_count": 40,
   "metadata": {},
   "outputs": [
    {
     "data": {
      "text/plain": [
       "True"
      ]
     },
     "execution_count": 40,
     "metadata": {},
     "output_type": "execute_result"
    }
   ],
   "source": [
    "cv.imwrite('res_bound2.png',boundary2)"
   ]
  },
  {
   "cell_type": "code",
   "execution_count": null,
   "metadata": {},
   "outputs": [],
   "source": []
  }
 ],
 "metadata": {
  "kernelspec": {
   "display_name": "Python 3",
   "language": "python",
   "name": "python3"
  },
  "language_info": {
   "codemirror_mode": {
    "name": "ipython",
    "version": 3
   },
   "file_extension": ".py",
   "mimetype": "text/x-python",
   "name": "python",
   "nbconvert_exporter": "python",
   "pygments_lexer": "ipython3",
   "version": "3.6.6"
  }
 },
 "nbformat": 4,
 "nbformat_minor": 2
}
